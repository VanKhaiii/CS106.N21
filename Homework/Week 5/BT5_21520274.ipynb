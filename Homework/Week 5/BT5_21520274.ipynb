{
  "cells": [
    {
      "cell_type": "markdown",
      "source": [
        "Chào cả lớp,\n",
        "\n",
        "Dựa vào Q-Learning trong file đính kèm, các em hãy cày đặt thuật toán SARSA nhé (slides Reinforcement Learning).\n",
        "\n",
        "Các em có nhận xét so sánh gì về performance của Q-Learning và SARSA trên 3 env \"FrozenLake-v1\", \"FrozenLake8x8-v1\", và \"Taxi-v3\"? Hãy vẽ đồ thị minh họa hiệu năng của SARSA so với Q-Learning. Viết nhận xét trực tiếp vào file bài nộp ipynb. Đặt tên file BT5_MSSV.ipynb với MSSV của mình.\n",
        "\n",
        "Deadline: 18/06/2023\n",
        "\n",
        "Sau ngày 25/06/2023 sẽ không nhân thêm bài nộp mới."
      ],
      "metadata": {
        "id": "YWuEHVL79t7k"
      }
    },
    {
      "cell_type": "code",
      "execution_count": 1,
      "metadata": {
        "id": "g8P_laMcSQNk"
      },
      "outputs": [],
      "source": [
        "import gym\n",
        "import numpy as np\n",
        "import random"
      ]
    },
    {
      "cell_type": "code",
      "execution_count": 2,
      "metadata": {
        "id": "xifGZ8j-SWPT",
        "colab": {
          "base_uri": "https://localhost:8080/"
        },
        "outputId": "6d8f01e3-ae21-4d92-e5ee-ae8d4c37ff14"
      },
      "outputs": [
        {
          "output_type": "stream",
          "name": "stderr",
          "text": [
            "/usr/local/lib/python3.10/dist-packages/ipykernel/ipkernel.py:283: DeprecationWarning: `should_run_async` will not call `transform_cell` automatically in the future. Please pass the result to `transformed_cell` argument and any exception that happen during thetransform in `preprocessing_exc_tuple` in IPython 7.17 and above.\n",
            "  and should_run_async(code)\n",
            "/usr/local/lib/python3.10/dist-packages/gym/core.py:317: DeprecationWarning: \u001b[33mWARN: Initializing wrapper in old step API which returns one bool instead of two. It is recommended to set `new_step_api=True` to use new step API. This will be the default behaviour in future.\u001b[0m\n",
            "  deprecation(\n",
            "/usr/local/lib/python3.10/dist-packages/gym/wrappers/step_api_compatibility.py:39: DeprecationWarning: \u001b[33mWARN: Initializing environment in old step API which returns one bool instead of two. It is recommended to set `new_step_api=True` to use new step API. This will be the default behaviour in future.\u001b[0m\n",
            "  deprecation(\n"
          ]
        }
      ],
      "source": [
        "env = gym.make('FrozenLake-v1')"
      ]
    },
    {
      "cell_type": "code",
      "execution_count": 3,
      "metadata": {
        "colab": {
          "base_uri": "https://localhost:8080/"
        },
        "id": "KpG5Q7_XSdPw",
        "outputId": "65c51cb9-947b-4ef5-fa89-6d55a1fd2b57"
      },
      "outputs": [
        {
          "output_type": "stream",
          "name": "stdout",
          "text": [
            "[[0. 0. 0. 0.]\n",
            " [0. 0. 0. 0.]\n",
            " [0. 0. 0. 0.]\n",
            " [0. 0. 0. 0.]\n",
            " [0. 0. 0. 0.]\n",
            " [0. 0. 0. 0.]\n",
            " [0. 0. 0. 0.]\n",
            " [0. 0. 0. 0.]\n",
            " [0. 0. 0. 0.]\n",
            " [0. 0. 0. 0.]\n",
            " [0. 0. 0. 0.]\n",
            " [0. 0. 0. 0.]\n",
            " [0. 0. 0. 0.]\n",
            " [0. 0. 0. 0.]\n",
            " [0. 0. 0. 0.]\n",
            " [0. 0. 0. 0.]]\n"
          ]
        }
      ],
      "source": [
        "# Initialize Q-value table randomly\n",
        "q_table = np.zeros((env.observation_space.n, env.action_space.n))\n",
        "print(q_table)"
      ]
    },
    {
      "cell_type": "code",
      "execution_count": 4,
      "metadata": {
        "id": "dFsyfXH5Ssd6"
      },
      "outputs": [],
      "source": [
        "# Hyperparameters\n",
        "gamma = 0.99\n",
        "learning_rate = 0.1\n",
        "max_epsilon = 1.0\n",
        "min_epsilon = 0.01\n",
        "epsilon_decay_rate = 0.005\n",
        "\n",
        "num_episodes = 20000\n",
        "num_steps_per_episode = 100"
      ]
    },
    {
      "cell_type": "code",
      "execution_count": 5,
      "metadata": {
        "id": "d3xVez-WTeww"
      },
      "outputs": [],
      "source": [
        "def q_learning(env, num_episodes, num_steps_per_episode, learning_rate, gamma, max_epsilon, min_epsilon, epsilon_decay_rate):\n",
        "    q_table = np.zeros((env.observation_space.n, env.action_space.n))\n",
        "    rewards_all = []\n",
        "\n",
        "    #Loop qua cac episodes\n",
        "    for episode in range(num_episodes):\n",
        "        #Chon state\n",
        "        state = env.reset()\n",
        "        reward_episode = 0.0\n",
        "\n",
        "        #Epsilon de chọn Q\n",
        "        epsilon = min_epsilon + (max_epsilon - min_epsilon) * np.exp(-epsilon_decay_rate*episode)\n",
        "        #Loop qua cac step\n",
        "        for step in range(num_steps_per_episode):\n",
        "            #Chon cac action dua vao uniform distribution\n",
        "            exploration = random.uniform(0,1)\n",
        "            if exploration < epsilon:\n",
        "                action = env.action_space.sample()\n",
        "            else:\n",
        "                action = np.argmax(q_table[state, :])\n",
        "\n",
        "            next_state, reward, done, info = env.step(action)\n",
        "\n",
        "            #Sample dung Q(s',a')\n",
        "            sample=reward + gamma * np.max(q_table[next_state,:])\n",
        "            q_table[state, action] = q_table[state, action] * (1 - learning_rate) + learning_rate * sample\n",
        "\n",
        "            #Chuyen sang trang thai tiep theo\n",
        "            reward_episode += reward\n",
        "            state = next_state\n",
        "\n",
        "        rewards_all.append(reward_episode)\n",
        "    print(f'Episode {episode} finished')\n",
        "    return q_table, rewards_all"
      ]
    },
    {
      "cell_type": "code",
      "execution_count": 6,
      "metadata": {
        "colab": {
          "base_uri": "https://localhost:8080/"
        },
        "id": "jmauQUIQVOWr",
        "outputId": "952b6ca2-26c7-404f-c806-12c990148165"
      },
      "outputs": [
        {
          "output_type": "stream",
          "name": "stdout",
          "text": [
            "Episode 19999 finished\n"
          ]
        }
      ],
      "source": [
        "q_table, rewards_all = q_learning(env, num_episodes, num_steps_per_episode, learning_rate, gamma, max_epsilon, min_epsilon, epsilon_decay_rate)"
      ]
    },
    {
      "cell_type": "code",
      "execution_count": 7,
      "metadata": {
        "colab": {
          "base_uri": "https://localhost:8080/"
        },
        "id": "XBf-s9wsVX5Z",
        "outputId": "1f1fe7a8-303d-48f7-bde0-b47db0f1b7f8"
      },
      "outputs": [
        {
          "output_type": "execute_result",
          "data": {
            "text/plain": [
              "array([[0.51401123, 0.4844628 , 0.48506094, 0.4884316 ],\n",
              "       [0.25003028, 0.13462748, 0.2550257 , 0.44207576],\n",
              "       [0.36510921, 0.25967556, 0.2619514 , 0.25643709],\n",
              "       [0.12430718, 0.0010159 , 0.00127433, 0.00378917],\n",
              "       [0.53046954, 0.31914557, 0.41726267, 0.32027132],\n",
              "       [0.        , 0.        , 0.        , 0.        ],\n",
              "       [0.14363479, 0.15350617, 0.30083176, 0.10576669],\n",
              "       [0.        , 0.        , 0.        , 0.        ],\n",
              "       [0.31157143, 0.40402404, 0.34262328, 0.56334499],\n",
              "       [0.49901939, 0.61006844, 0.46381585, 0.35561691],\n",
              "       [0.55237127, 0.3420443 , 0.32597511, 0.27517028],\n",
              "       [0.        , 0.        , 0.        , 0.        ],\n",
              "       [0.        , 0.        , 0.        , 0.        ],\n",
              "       [0.30941173, 0.56077623, 0.69919988, 0.47194702],\n",
              "       [0.723095  , 0.83702376, 0.7218498 , 0.67403342],\n",
              "       [0.        , 0.        , 0.        , 0.        ]])"
            ]
          },
          "metadata": {},
          "execution_count": 7
        }
      ],
      "source": [
        "q_table"
      ]
    },
    {
      "cell_type": "code",
      "execution_count": 8,
      "metadata": {
        "colab": {
          "base_uri": "https://localhost:8080/"
        },
        "id": "8MAozcopVdi_",
        "outputId": "5a1e9ce7-f4a5-4a79-999d-b1f02bf53d50"
      },
      "outputs": [
        {
          "output_type": "execute_result",
          "data": {
            "text/plain": [
              "665.0"
            ]
          },
          "metadata": {},
          "execution_count": 8
        }
      ],
      "source": [
        "sum(rewards_all)\n",
        "sum(rewards_all[0:1000])\n",
        "sum(rewards_all[1000:2000])\n",
        "sum(rewards_all[2000:3000])\n",
        "sum(rewards_all[9000:10000])"
      ]
    },
    {
      "cell_type": "code",
      "execution_count": 9,
      "metadata": {
        "id": "yGopsD0IWpDO"
      },
      "outputs": [],
      "source": [
        "def play(env, q_table, render=False):\n",
        "    state = env.reset()\n",
        "    total_reward = 0\n",
        "    steps = 0\n",
        "    done = False\n",
        "    while not done:\n",
        "        action = np.argmax(q_table[state, :])\n",
        "        next_state, reward, done, info = env.step(action)\n",
        "        total_reward += reward\n",
        "        steps += 1\n",
        "        if render:\n",
        "            env.render()\n",
        "            time.sleep(0.2)\n",
        "            if not done:\n",
        "                display.clear_output(wait=True)\n",
        "        state = next_state\n",
        "\n",
        "    return (total_reward, steps)"
      ]
    },
    {
      "cell_type": "code",
      "execution_count": 10,
      "metadata": {
        "id": "2l8BKi9TSqRe"
      },
      "outputs": [],
      "source": [
        "def play_multiple_times(env, q_table, max_episodes):\n",
        "    success = 0\n",
        "    list_of_steps = []\n",
        "    for i in range(max_episodes):\n",
        "        total_reward, steps = play(env, q_table)\n",
        "\n",
        "        if total_reward > 0:\n",
        "            success += 1\n",
        "            list_of_steps.append(steps)\n",
        "\n",
        "    print(f'Number of successes: {success}/{max_episodes}')\n",
        "    print(f'Average number of steps: {np.mean(list_of_steps)}')"
      ]
    },
    {
      "cell_type": "code",
      "execution_count": 11,
      "metadata": {
        "colab": {
          "base_uri": "https://localhost:8080/"
        },
        "id": "hs-EbCUUSvf2",
        "outputId": "1e367b1a-1152-4bd2-ecfb-9dbf70b910ce"
      },
      "outputs": [
        {
          "output_type": "stream",
          "name": "stdout",
          "text": [
            "Number of successes: 709/1000\n",
            "Average number of steps: 36.95345557122708\n"
          ]
        }
      ],
      "source": [
        "play_multiple_times(env, q_table, 1000)"
      ]
    },
    {
      "cell_type": "markdown",
      "metadata": {
        "id": "bm4CcsAzSx-f"
      },
      "source": [
        "# Sarsa"
      ]
    },
    {
      "cell_type": "markdown",
      "metadata": {
        "id": "7XUUOQcl7zBj"
      },
      "source": [
        "Em cài đặt sarsa dựa trên epsilon thường, epsilon-greedy chỉ khác ở cách chúng ta lấy mẫu"
      ]
    },
    {
      "cell_type": "code",
      "execution_count": 12,
      "metadata": {
        "id": "boMpHc527zBj"
      },
      "outputs": [],
      "source": [
        "def sarsa(env, num_episodes, num_steps_per_episode, learning_rate, gamma, max_epsilon, min_epsilon, epsilon_decay_rate):\n",
        "    q_table = np.zeros((env.observation_space.n, env.action_space.n))\n",
        "    rewards_all = []\n",
        "\n",
        "    #Loop qua cac episodes\n",
        "    for episode in range(num_episodes):\n",
        "        #Chon state\n",
        "        state = env.reset()\n",
        "        reward_episode = 0.0\n",
        "        #Epsilon de chọn action a\n",
        "        epsilon = min_epsilon + (max_epsilon - min_epsilon) * np.exp(-epsilon_decay_rate*episode)\n",
        "\n",
        "        exploration = random.uniform(0,1)\n",
        "        if exploration < epsilon:\n",
        "            action = env.action_space.sample()\n",
        "        else:\n",
        "            action = np.argmax(q_table[state, :])\n",
        "\n",
        "\n",
        "        #Loop qua cac step\n",
        "        for step in range(num_steps_per_episode):\n",
        "            #s' next state tiep theo\n",
        "            next_state, reward, done, info = env.step(action)\n",
        "            #Chon cac next_action dua vao uniform distribution cua next_state\n",
        "            exploration = random.uniform(0,1)\n",
        "            if exploration < epsilon:\n",
        "                next_action = env.action_space.sample()\n",
        "            else:\n",
        "                next_action = np.argmax(q_table[next_state, :])\n",
        "\n",
        "            #Sample dung Q\n",
        "            sample=reward + gamma * q_table[next_state,next_action] - q_table[state, action]\n",
        "            q_table[state, action] += learning_rate * sample\n",
        "\n",
        "            #Chuyen sang trang thai tiep theo\n",
        "            reward_episode += reward\n",
        "            state = next_state\n",
        "            #action cho action tiep theo\n",
        "            action = next_action\n",
        "\n",
        "        rewards_all.append(reward_episode)\n",
        "    print(f'Episode {episode} finished')\n",
        "    return q_table, rewards_all"
      ]
    },
    {
      "cell_type": "code",
      "execution_count": 13,
      "metadata": {
        "colab": {
          "base_uri": "https://localhost:8080/"
        },
        "id": "k0L0rIPJ7zBj",
        "outputId": "1c7a9f03-1476-4afe-81c5-77db2e00b316"
      },
      "outputs": [
        {
          "output_type": "stream",
          "name": "stdout",
          "text": [
            "Episode 19999 finished\n"
          ]
        }
      ],
      "source": [
        "q_table, rewards_all = sarsa(env, num_episodes, num_steps_per_episode, learning_rate, gamma, max_epsilon, min_epsilon, epsilon_decay_rate)"
      ]
    },
    {
      "cell_type": "code",
      "execution_count": 14,
      "metadata": {
        "colab": {
          "base_uri": "https://localhost:8080/"
        },
        "id": "YhcXRZOI7zBk",
        "outputId": "1ad1c3d4-a6f9-4d99-9446-f585ab0c0029"
      },
      "outputs": [
        {
          "output_type": "execute_result",
          "data": {
            "text/plain": [
              "array([[0.       , 0.       , 0.       , 0.       ],\n",
              "       [0.       , 0.       , 0.       , 0.       ],\n",
              "       [0.       , 0.       , 0.       , 0.       ],\n",
              "       [0.       , 0.       , 0.       , 0.       ],\n",
              "       [0.       , 0.       , 0.       , 0.       ],\n",
              "       [0.       , 0.       , 0.       , 0.       ],\n",
              "       [0.       , 0.       , 0.       , 0.       ],\n",
              "       [0.       , 0.       , 0.       , 0.       ],\n",
              "       [0.       , 0.       , 0.       , 0.       ],\n",
              "       [0.       , 0.       , 0.       , 0.       ],\n",
              "       [0.00891  , 0.0098901, 0.       , 0.       ],\n",
              "       [0.       , 0.       , 0.       , 0.       ],\n",
              "       [0.       , 0.       , 0.       , 0.       ],\n",
              "       [0.       , 0.       , 0.       , 0.       ],\n",
              "       [0.       , 0.       , 0.18991  , 0.0909801],\n",
              "       [0.       , 0.       , 0.       , 0.       ]])"
            ]
          },
          "metadata": {},
          "execution_count": 14
        }
      ],
      "source": [
        "q_table"
      ]
    },
    {
      "cell_type": "code",
      "execution_count": 15,
      "metadata": {
        "colab": {
          "base_uri": "https://localhost:8080/"
        },
        "id": "2GXjTd0P7zBk",
        "outputId": "7f324268-bb6d-41f3-f8a9-287d3ed3bab8"
      },
      "outputs": [
        {
          "output_type": "stream",
          "name": "stdout",
          "text": [
            "Number of successes: 0/1000\n",
            "Average number of steps: nan\n"
          ]
        },
        {
          "output_type": "stream",
          "name": "stderr",
          "text": [
            "/usr/local/lib/python3.10/dist-packages/numpy/core/fromnumeric.py:3474: RuntimeWarning: Mean of empty slice.\n",
            "  return _methods._mean(a, axis=axis, dtype=dtype,\n",
            "/usr/local/lib/python3.10/dist-packages/numpy/core/_methods.py:189: RuntimeWarning: invalid value encountered in double_scalars\n",
            "  ret = ret.dtype.type(ret / rcount)\n"
          ]
        }
      ],
      "source": [
        "play_multiple_times(env, q_table, 1000)"
      ]
    },
    {
      "cell_type": "markdown",
      "metadata": {
        "id": "R68tzE4t7zBk"
      },
      "source": [
        "# Chạy trên các game"
      ]
    },
    {
      "cell_type": "code",
      "execution_count": 16,
      "metadata": {
        "id": "eCzXevNW7zBk"
      },
      "outputs": [],
      "source": [
        "import time"
      ]
    },
    {
      "cell_type": "markdown",
      "metadata": {
        "id": "fU-0vg_m7zBl"
      },
      "source": [
        "FrozenLake-v1_qlearning"
      ]
    },
    {
      "cell_type": "code",
      "execution_count": 17,
      "metadata": {
        "colab": {
          "base_uri": "https://localhost:8080/"
        },
        "id": "hT9WsPrp7zBl",
        "outputId": "83904659-86f9-4c40-9b2e-5cf629420b61"
      },
      "outputs": [
        {
          "output_type": "stream",
          "name": "stdout",
          "text": [
            "Episode 19999 finished\n",
            "Time: 74.00147533416748\n",
            "Number of successes: 726/1000\n",
            "Average number of steps: 36.46280991735537\n"
          ]
        }
      ],
      "source": [
        "env = gym.make('FrozenLake-v1')\n",
        "start=time.time()\n",
        "q_table, rewards_all = q_learning(env, num_episodes, num_steps_per_episode, learning_rate, gamma, max_epsilon, min_epsilon, epsilon_decay_rate)\n",
        "end=time.time()\n",
        "print('Time:',end-start)\n",
        "play_multiple_times(env, q_table, 1000)"
      ]
    },
    {
      "cell_type": "markdown",
      "metadata": {
        "id": "k9Emrk4e7zBl"
      },
      "source": [
        "FrozenLake-v1_sarsa"
      ]
    },
    {
      "cell_type": "code",
      "execution_count": 18,
      "metadata": {
        "colab": {
          "base_uri": "https://localhost:8080/"
        },
        "id": "8e9SDx5F7zBl",
        "outputId": "8878eefc-e122-44e2-d19d-da96d7cd1133"
      },
      "outputs": [
        {
          "output_type": "stream",
          "name": "stdout",
          "text": [
            "Episode 19999 finished\n",
            "Time: 53.15991139411926\n",
            "Number of successes: 732/1000\n",
            "Average number of steps: 36.84426229508197\n"
          ]
        }
      ],
      "source": [
        "env = gym.make('FrozenLake-v1')\n",
        "start=time.time()\n",
        "q_table, rewards_all = sarsa(env, num_episodes, num_steps_per_episode, learning_rate, gamma, max_epsilon, min_epsilon, epsilon_decay_rate)\n",
        "end=time.time()\n",
        "print('Time:',end-start)\n",
        "play_multiple_times(env, q_table, 1000)"
      ]
    },
    {
      "cell_type": "markdown",
      "metadata": {
        "id": "ppiNgje17zBm"
      },
      "source": [
        "FrozenLake88-v1_qlearning"
      ]
    },
    {
      "cell_type": "code",
      "execution_count": 19,
      "metadata": {
        "colab": {
          "base_uri": "https://localhost:8080/"
        },
        "id": "P6OC4Zir7zBm",
        "outputId": "8c3e8a29-5928-49a8-b59e-5ae1b6fa0bbb"
      },
      "outputs": [
        {
          "output_type": "stream",
          "name": "stdout",
          "text": [
            "Episode 19999 finished\n",
            "Time: 71.94302535057068\n",
            "Number of successes: 0/1000\n",
            "Average number of steps: nan\n"
          ]
        }
      ],
      "source": [
        "env = gym.make('FrozenLake8x8-v1')\n",
        "start=time.time()\n",
        "q_table, rewards_all = q_learning(env, num_episodes, num_steps_per_episode, learning_rate, gamma, max_epsilon, min_epsilon, epsilon_decay_rate)\n",
        "end=time.time()\n",
        "print('Time:',end-start)\n",
        "play_multiple_times(env, q_table, 1000)"
      ]
    },
    {
      "cell_type": "markdown",
      "metadata": {
        "id": "qWkhSazp7zBm"
      },
      "source": [
        "FrozenLake88-v1_sarsa"
      ]
    },
    {
      "cell_type": "code",
      "execution_count": 20,
      "metadata": {
        "colab": {
          "base_uri": "https://localhost:8080/"
        },
        "id": "j0IfiRCy7zBn",
        "outputId": "1824266f-9362-4dd4-e08b-996f52526f53"
      },
      "outputs": [
        {
          "output_type": "stream",
          "name": "stdout",
          "text": [
            "Episode 19999 finished\n",
            "Time: 53.96932649612427\n",
            "Number of successes: 0/1000\n",
            "Average number of steps: nan\n"
          ]
        }
      ],
      "source": [
        "env = gym.make('FrozenLake8x8-v1')\n",
        "start=time.time()\n",
        "q_table, rewards_all = sarsa(env, num_episodes, num_steps_per_episode, learning_rate, gamma, max_epsilon, min_epsilon, epsilon_decay_rate)\n",
        "end=time.time()\n",
        "print('Time:',end-start)\n",
        "play_multiple_times(env, q_table, 1000)"
      ]
    },
    {
      "cell_type": "markdown",
      "metadata": {
        "id": "2x1gPiYi7zBn"
      },
      "source": [
        "Taxi-v3_qlearning"
      ]
    },
    {
      "cell_type": "code",
      "execution_count": 21,
      "metadata": {
        "colab": {
          "base_uri": "https://localhost:8080/"
        },
        "id": "28f7zPo57zBn",
        "outputId": "b5d6f87b-1a94-4094-90e7-d3ae1ce922d2"
      },
      "outputs": [
        {
          "output_type": "stream",
          "name": "stdout",
          "text": [
            "Episode 19999 finished\n",
            "Time: 96.78189778327942\n",
            "Number of successes: 1000/1000\n",
            "Average number of steps: 13.016\n"
          ]
        }
      ],
      "source": [
        "env = gym.make('Taxi-v3')\n",
        "start=time.time()\n",
        "q_table, rewards_all = q_learning(env, num_episodes, num_steps_per_episode, learning_rate, gamma, max_epsilon, min_epsilon, epsilon_decay_rate)\n",
        "end=time.time()\n",
        "print('Time:',end-start)\n",
        "play_multiple_times(env, q_table, 1000)"
      ]
    },
    {
      "cell_type": "markdown",
      "metadata": {
        "id": "wsnxXz2E7zBn"
      },
      "source": [
        "Taxi-v3_sarsa"
      ]
    },
    {
      "cell_type": "code",
      "execution_count": 22,
      "metadata": {
        "colab": {
          "base_uri": "https://localhost:8080/"
        },
        "id": "ByBO3PKg7zBn",
        "outputId": "343436bb-ce41-4324-8979-38d77b45f734"
      },
      "outputs": [
        {
          "output_type": "stream",
          "name": "stdout",
          "text": [
            "Episode 19999 finished\n",
            "Time: 69.14348649978638\n",
            "Number of successes: 1000/1000\n",
            "Average number of steps: 12.989\n"
          ]
        }
      ],
      "source": [
        "env = gym.make('Taxi-v3')\n",
        "start=time.time()\n",
        "q_table, rewards_all = sarsa(env, num_episodes, num_steps_per_episode, learning_rate, gamma, max_epsilon, min_epsilon, epsilon_decay_rate)\n",
        "end=time.time()\n",
        "print('Time:',end-start)\n",
        "play_multiple_times(env, q_table, 1000)"
      ]
    },
    {
      "cell_type": "markdown",
      "metadata": {
        "id": "pybtioPt7zBn"
      },
      "source": [
        "# **Nhận Xét**\n",
        "\n",
        "*   Cả 2 thuật toán đều hội tụ dần về phương án tối ưu\n",
        "*   Thuật toán Sarsa chạy nhanh hơn Qlearning (thời gian thực hiện nhanh hơn)\n",
        "*   Số lần chơi thành công và số bước chơi trung bình qua 3 map của 2 thuật toán Q Learning và SARSA là tương đương nhau\n",
        "*   Ở game taxi, cả 2 thuật toán đều cùng đã hội tụ về phương án tối ưu\n",
        "\n",
        "\n",
        "\n",
        "\n"
      ]
    },
    {
      "cell_type": "code",
      "source": [],
      "metadata": {
        "id": "j79FyR50_lVR"
      },
      "execution_count": null,
      "outputs": []
    }
  ],
  "metadata": {
    "colab": {
      "provenance": []
    },
    "kernelspec": {
      "display_name": "Python 3 (ipykernel)",
      "language": "python",
      "name": "python3"
    },
    "language_info": {
      "codemirror_mode": {
        "name": "ipython",
        "version": 3
      },
      "file_extension": ".py",
      "mimetype": "text/x-python",
      "name": "python",
      "nbconvert_exporter": "python",
      "pygments_lexer": "ipython3",
      "version": "3.10.1"
    }
  },
  "nbformat": 4,
  "nbformat_minor": 0
}